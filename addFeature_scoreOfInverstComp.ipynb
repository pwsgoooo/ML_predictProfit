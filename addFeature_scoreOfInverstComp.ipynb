{
  "nbformat": 4,
  "nbformat_minor": 0,
  "metadata": {
    "colab": {
      "provenance": [],
      "collapsed_sections": [
        "W4Kb5U-qLL2F"
      ]
    },
    "kernelspec": {
      "name": "python3",
      "display_name": "Python 3"
    },
    "language_info": {
      "name": "python"
    }
  },
  "cells": [
    {
      "cell_type": "code",
      "execution_count": 1,
      "metadata": {
        "id": "FwiNzD0E_WF5"
      },
      "outputs": [],
      "source": [
        "import numpy as np\n",
        "import pandas as pd"
      ]
    },
    {
      "cell_type": "markdown",
      "source": [
        "# 기업별 투자사 목록 Data 불러오기"
      ],
      "metadata": {
        "id": "6KNxoN33IZ5p"
      }
    },
    {
      "cell_type": "code",
      "source": [
        "df = pd.read_csv('listofInvestComp_eachComp_base.csv', encoding = 'cp949')\n",
        "df"
      ],
      "metadata": {
        "colab": {
          "base_uri": "https://localhost:8080/",
          "height": 493
        },
        "id": "1bf37PKIHOLE",
        "outputId": "4f091e42-6324-42bc-ec7b-89e78b0d454c"
      },
      "execution_count": 2,
      "outputs": [
        {
          "output_type": "execute_result",
          "data": {
            "text/plain": [
              "                                                   투자사      기업명\n",
              "0    ['알토스벤처스', ' 카카오벤처스', ' 에이티넘인베스트먼트', ' 에이티넘인베스...     라포랩스\n",
              "1    ['콜버그크래비스로버츠', ' 웰링턴매니지먼트', ' 세쿼이아캐피탈', ' 아이엠엠...      무신사\n",
              "2    ['제이비금융지주', ' 500글로벌', ' 기아', ' 트랜스링크캐피털', ' 5...       핀다\n",
              "3    ['우리벤처파트너스', ' 컴퍼니케이파트너스', ' 알토스벤처스', ' 한국증권금융...       와드\n",
              "4    ['비공개', ' 넥슨코리아', ' 아스테란인베스트먼트', ' 아이엠엠인베스트먼트'...  마플코퍼레이션\n",
              "..                                                 ...      ...\n",
              "907                                            ['nan']       진켐\n",
              "908                                           ['리벤처스']   나이프플러스\n",
              "909             ['에스엘인베스트먼트', ' 소프트뱅크벤처스', ' 캡스톤파트너스']    캐럿게임즈\n",
              "910                          ['컴퍼니케이파트너스', ' 캡스톤파트너스']     펀플웍스\n",
              "911       ['한국산업은행', ' 아이비케이기업은행', ' 디캠프', ' 포스코기술투자']      아비즈\n",
              "\n",
              "[912 rows x 2 columns]"
            ],
            "text/html": [
              "\n",
              "  <div id=\"df-53aa3085-45d0-4f6a-b13a-a9a6caf327dc\" class=\"colab-df-container\">\n",
              "    <div>\n",
              "<style scoped>\n",
              "    .dataframe tbody tr th:only-of-type {\n",
              "        vertical-align: middle;\n",
              "    }\n",
              "\n",
              "    .dataframe tbody tr th {\n",
              "        vertical-align: top;\n",
              "    }\n",
              "\n",
              "    .dataframe thead th {\n",
              "        text-align: right;\n",
              "    }\n",
              "</style>\n",
              "<table border=\"1\" class=\"dataframe\">\n",
              "  <thead>\n",
              "    <tr style=\"text-align: right;\">\n",
              "      <th></th>\n",
              "      <th>투자사</th>\n",
              "      <th>기업명</th>\n",
              "    </tr>\n",
              "  </thead>\n",
              "  <tbody>\n",
              "    <tr>\n",
              "      <th>0</th>\n",
              "      <td>['알토스벤처스', ' 카카오벤처스', ' 에이티넘인베스트먼트', ' 에이티넘인베스...</td>\n",
              "      <td>라포랩스</td>\n",
              "    </tr>\n",
              "    <tr>\n",
              "      <th>1</th>\n",
              "      <td>['콜버그크래비스로버츠', ' 웰링턴매니지먼트', ' 세쿼이아캐피탈', ' 아이엠엠...</td>\n",
              "      <td>무신사</td>\n",
              "    </tr>\n",
              "    <tr>\n",
              "      <th>2</th>\n",
              "      <td>['제이비금융지주', ' 500글로벌', ' 기아', ' 트랜스링크캐피털', ' 5...</td>\n",
              "      <td>핀다</td>\n",
              "    </tr>\n",
              "    <tr>\n",
              "      <th>3</th>\n",
              "      <td>['우리벤처파트너스', ' 컴퍼니케이파트너스', ' 알토스벤처스', ' 한국증권금융...</td>\n",
              "      <td>와드</td>\n",
              "    </tr>\n",
              "    <tr>\n",
              "      <th>4</th>\n",
              "      <td>['비공개', ' 넥슨코리아', ' 아스테란인베스트먼트', ' 아이엠엠인베스트먼트'...</td>\n",
              "      <td>마플코퍼레이션</td>\n",
              "    </tr>\n",
              "    <tr>\n",
              "      <th>...</th>\n",
              "      <td>...</td>\n",
              "      <td>...</td>\n",
              "    </tr>\n",
              "    <tr>\n",
              "      <th>907</th>\n",
              "      <td>['nan']</td>\n",
              "      <td>진켐</td>\n",
              "    </tr>\n",
              "    <tr>\n",
              "      <th>908</th>\n",
              "      <td>['리벤처스']</td>\n",
              "      <td>나이프플러스</td>\n",
              "    </tr>\n",
              "    <tr>\n",
              "      <th>909</th>\n",
              "      <td>['에스엘인베스트먼트', ' 소프트뱅크벤처스', ' 캡스톤파트너스']</td>\n",
              "      <td>캐럿게임즈</td>\n",
              "    </tr>\n",
              "    <tr>\n",
              "      <th>910</th>\n",
              "      <td>['컴퍼니케이파트너스', ' 캡스톤파트너스']</td>\n",
              "      <td>펀플웍스</td>\n",
              "    </tr>\n",
              "    <tr>\n",
              "      <th>911</th>\n",
              "      <td>['한국산업은행', ' 아이비케이기업은행', ' 디캠프', ' 포스코기술투자']</td>\n",
              "      <td>아비즈</td>\n",
              "    </tr>\n",
              "  </tbody>\n",
              "</table>\n",
              "<p>912 rows × 2 columns</p>\n",
              "</div>\n",
              "    <div class=\"colab-df-buttons\">\n",
              "\n",
              "  <div class=\"colab-df-container\">\n",
              "    <button class=\"colab-df-convert\" onclick=\"convertToInteractive('df-53aa3085-45d0-4f6a-b13a-a9a6caf327dc')\"\n",
              "            title=\"Convert this dataframe to an interactive table.\"\n",
              "            style=\"display:none;\">\n",
              "\n",
              "  <svg xmlns=\"http://www.w3.org/2000/svg\" height=\"24px\" viewBox=\"0 -960 960 960\">\n",
              "    <path d=\"M120-120v-720h720v720H120Zm60-500h600v-160H180v160Zm220 220h160v-160H400v160Zm0 220h160v-160H400v160ZM180-400h160v-160H180v160Zm440 0h160v-160H620v160ZM180-180h160v-160H180v160Zm440 0h160v-160H620v160Z\"/>\n",
              "  </svg>\n",
              "    </button>\n",
              "\n",
              "  <style>\n",
              "    .colab-df-container {\n",
              "      display:flex;\n",
              "      gap: 12px;\n",
              "    }\n",
              "\n",
              "    .colab-df-convert {\n",
              "      background-color: #E8F0FE;\n",
              "      border: none;\n",
              "      border-radius: 50%;\n",
              "      cursor: pointer;\n",
              "      display: none;\n",
              "      fill: #1967D2;\n",
              "      height: 32px;\n",
              "      padding: 0 0 0 0;\n",
              "      width: 32px;\n",
              "    }\n",
              "\n",
              "    .colab-df-convert:hover {\n",
              "      background-color: #E2EBFA;\n",
              "      box-shadow: 0px 1px 2px rgba(60, 64, 67, 0.3), 0px 1px 3px 1px rgba(60, 64, 67, 0.15);\n",
              "      fill: #174EA6;\n",
              "    }\n",
              "\n",
              "    .colab-df-buttons div {\n",
              "      margin-bottom: 4px;\n",
              "    }\n",
              "\n",
              "    [theme=dark] .colab-df-convert {\n",
              "      background-color: #3B4455;\n",
              "      fill: #D2E3FC;\n",
              "    }\n",
              "\n",
              "    [theme=dark] .colab-df-convert:hover {\n",
              "      background-color: #434B5C;\n",
              "      box-shadow: 0px 1px 3px 1px rgba(0, 0, 0, 0.15);\n",
              "      filter: drop-shadow(0px 1px 2px rgba(0, 0, 0, 0.3));\n",
              "      fill: #FFFFFF;\n",
              "    }\n",
              "  </style>\n",
              "\n",
              "    <script>\n",
              "      const buttonEl =\n",
              "        document.querySelector('#df-53aa3085-45d0-4f6a-b13a-a9a6caf327dc button.colab-df-convert');\n",
              "      buttonEl.style.display =\n",
              "        google.colab.kernel.accessAllowed ? 'block' : 'none';\n",
              "\n",
              "      async function convertToInteractive(key) {\n",
              "        const element = document.querySelector('#df-53aa3085-45d0-4f6a-b13a-a9a6caf327dc');\n",
              "        const dataTable =\n",
              "          await google.colab.kernel.invokeFunction('convertToInteractive',\n",
              "                                                    [key], {});\n",
              "        if (!dataTable) return;\n",
              "\n",
              "        const docLinkHtml = 'Like what you see? Visit the ' +\n",
              "          '<a target=\"_blank\" href=https://colab.research.google.com/notebooks/data_table.ipynb>data table notebook</a>'\n",
              "          + ' to learn more about interactive tables.';\n",
              "        element.innerHTML = '';\n",
              "        dataTable['output_type'] = 'display_data';\n",
              "        await google.colab.output.renderOutput(dataTable, element);\n",
              "        const docLink = document.createElement('div');\n",
              "        docLink.innerHTML = docLinkHtml;\n",
              "        element.appendChild(docLink);\n",
              "      }\n",
              "    </script>\n",
              "  </div>\n",
              "\n",
              "\n",
              "<div id=\"df-8a61f3ec-c7c1-4c3f-8af4-e5f2a21d1393\">\n",
              "  <button class=\"colab-df-quickchart\" onclick=\"quickchart('df-8a61f3ec-c7c1-4c3f-8af4-e5f2a21d1393')\"\n",
              "            title=\"Suggest charts\"\n",
              "            style=\"display:none;\">\n",
              "\n",
              "<svg xmlns=\"http://www.w3.org/2000/svg\" height=\"24px\"viewBox=\"0 0 24 24\"\n",
              "     width=\"24px\">\n",
              "    <g>\n",
              "        <path d=\"M19 3H5c-1.1 0-2 .9-2 2v14c0 1.1.9 2 2 2h14c1.1 0 2-.9 2-2V5c0-1.1-.9-2-2-2zM9 17H7v-7h2v7zm4 0h-2V7h2v10zm4 0h-2v-4h2v4z\"/>\n",
              "    </g>\n",
              "</svg>\n",
              "  </button>\n",
              "\n",
              "<style>\n",
              "  .colab-df-quickchart {\n",
              "      --bg-color: #E8F0FE;\n",
              "      --fill-color: #1967D2;\n",
              "      --hover-bg-color: #E2EBFA;\n",
              "      --hover-fill-color: #174EA6;\n",
              "      --disabled-fill-color: #AAA;\n",
              "      --disabled-bg-color: #DDD;\n",
              "  }\n",
              "\n",
              "  [theme=dark] .colab-df-quickchart {\n",
              "      --bg-color: #3B4455;\n",
              "      --fill-color: #D2E3FC;\n",
              "      --hover-bg-color: #434B5C;\n",
              "      --hover-fill-color: #FFFFFF;\n",
              "      --disabled-bg-color: #3B4455;\n",
              "      --disabled-fill-color: #666;\n",
              "  }\n",
              "\n",
              "  .colab-df-quickchart {\n",
              "    background-color: var(--bg-color);\n",
              "    border: none;\n",
              "    border-radius: 50%;\n",
              "    cursor: pointer;\n",
              "    display: none;\n",
              "    fill: var(--fill-color);\n",
              "    height: 32px;\n",
              "    padding: 0;\n",
              "    width: 32px;\n",
              "  }\n",
              "\n",
              "  .colab-df-quickchart:hover {\n",
              "    background-color: var(--hover-bg-color);\n",
              "    box-shadow: 0 1px 2px rgba(60, 64, 67, 0.3), 0 1px 3px 1px rgba(60, 64, 67, 0.15);\n",
              "    fill: var(--button-hover-fill-color);\n",
              "  }\n",
              "\n",
              "  .colab-df-quickchart-complete:disabled,\n",
              "  .colab-df-quickchart-complete:disabled:hover {\n",
              "    background-color: var(--disabled-bg-color);\n",
              "    fill: var(--disabled-fill-color);\n",
              "    box-shadow: none;\n",
              "  }\n",
              "\n",
              "  .colab-df-spinner {\n",
              "    border: 2px solid var(--fill-color);\n",
              "    border-color: transparent;\n",
              "    border-bottom-color: var(--fill-color);\n",
              "    animation:\n",
              "      spin 1s steps(1) infinite;\n",
              "  }\n",
              "\n",
              "  @keyframes spin {\n",
              "    0% {\n",
              "      border-color: transparent;\n",
              "      border-bottom-color: var(--fill-color);\n",
              "      border-left-color: var(--fill-color);\n",
              "    }\n",
              "    20% {\n",
              "      border-color: transparent;\n",
              "      border-left-color: var(--fill-color);\n",
              "      border-top-color: var(--fill-color);\n",
              "    }\n",
              "    30% {\n",
              "      border-color: transparent;\n",
              "      border-left-color: var(--fill-color);\n",
              "      border-top-color: var(--fill-color);\n",
              "      border-right-color: var(--fill-color);\n",
              "    }\n",
              "    40% {\n",
              "      border-color: transparent;\n",
              "      border-right-color: var(--fill-color);\n",
              "      border-top-color: var(--fill-color);\n",
              "    }\n",
              "    60% {\n",
              "      border-color: transparent;\n",
              "      border-right-color: var(--fill-color);\n",
              "    }\n",
              "    80% {\n",
              "      border-color: transparent;\n",
              "      border-right-color: var(--fill-color);\n",
              "      border-bottom-color: var(--fill-color);\n",
              "    }\n",
              "    90% {\n",
              "      border-color: transparent;\n",
              "      border-bottom-color: var(--fill-color);\n",
              "    }\n",
              "  }\n",
              "</style>\n",
              "\n",
              "  <script>\n",
              "    async function quickchart(key) {\n",
              "      const quickchartButtonEl =\n",
              "        document.querySelector('#' + key + ' button');\n",
              "      quickchartButtonEl.disabled = true;  // To prevent multiple clicks.\n",
              "      quickchartButtonEl.classList.add('colab-df-spinner');\n",
              "      try {\n",
              "        const charts = await google.colab.kernel.invokeFunction(\n",
              "            'suggestCharts', [key], {});\n",
              "      } catch (error) {\n",
              "        console.error('Error during call to suggestCharts:', error);\n",
              "      }\n",
              "      quickchartButtonEl.classList.remove('colab-df-spinner');\n",
              "      quickchartButtonEl.classList.add('colab-df-quickchart-complete');\n",
              "    }\n",
              "    (() => {\n",
              "      let quickchartButtonEl =\n",
              "        document.querySelector('#df-8a61f3ec-c7c1-4c3f-8af4-e5f2a21d1393 button');\n",
              "      quickchartButtonEl.style.display =\n",
              "        google.colab.kernel.accessAllowed ? 'block' : 'none';\n",
              "    })();\n",
              "  </script>\n",
              "</div>\n",
              "\n",
              "  <div id=\"id_e8afe20b-79c2-428d-a84a-a9f889cd1cb3\">\n",
              "    <style>\n",
              "      .colab-df-generate {\n",
              "        background-color: #E8F0FE;\n",
              "        border: none;\n",
              "        border-radius: 50%;\n",
              "        cursor: pointer;\n",
              "        display: none;\n",
              "        fill: #1967D2;\n",
              "        height: 32px;\n",
              "        padding: 0 0 0 0;\n",
              "        width: 32px;\n",
              "      }\n",
              "\n",
              "      .colab-df-generate:hover {\n",
              "        background-color: #E2EBFA;\n",
              "        box-shadow: 0px 1px 2px rgba(60, 64, 67, 0.3), 0px 1px 3px 1px rgba(60, 64, 67, 0.15);\n",
              "        fill: #174EA6;\n",
              "      }\n",
              "\n",
              "      [theme=dark] .colab-df-generate {\n",
              "        background-color: #3B4455;\n",
              "        fill: #D2E3FC;\n",
              "      }\n",
              "\n",
              "      [theme=dark] .colab-df-generate:hover {\n",
              "        background-color: #434B5C;\n",
              "        box-shadow: 0px 1px 3px 1px rgba(0, 0, 0, 0.15);\n",
              "        filter: drop-shadow(0px 1px 2px rgba(0, 0, 0, 0.3));\n",
              "        fill: #FFFFFF;\n",
              "      }\n",
              "    </style>\n",
              "    <button class=\"colab-df-generate\" onclick=\"generateWithVariable('df')\"\n",
              "            title=\"Generate code using this dataframe.\"\n",
              "            style=\"display:none;\">\n",
              "\n",
              "  <svg xmlns=\"http://www.w3.org/2000/svg\" height=\"24px\"viewBox=\"0 0 24 24\"\n",
              "       width=\"24px\">\n",
              "    <path d=\"M7,19H8.4L18.45,9,17,7.55,7,17.6ZM5,21V16.75L18.45,3.32a2,2,0,0,1,2.83,0l1.4,1.43a1.91,1.91,0,0,1,.58,1.4,1.91,1.91,0,0,1-.58,1.4L9.25,21ZM18.45,9,17,7.55Zm-12,3A5.31,5.31,0,0,0,4.9,8.1,5.31,5.31,0,0,0,1,6.5,5.31,5.31,0,0,0,4.9,4.9,5.31,5.31,0,0,0,6.5,1,5.31,5.31,0,0,0,8.1,4.9,5.31,5.31,0,0,0,12,6.5,5.46,5.46,0,0,0,6.5,12Z\"/>\n",
              "  </svg>\n",
              "    </button>\n",
              "    <script>\n",
              "      (() => {\n",
              "      const buttonEl =\n",
              "        document.querySelector('#id_e8afe20b-79c2-428d-a84a-a9f889cd1cb3 button.colab-df-generate');\n",
              "      buttonEl.style.display =\n",
              "        google.colab.kernel.accessAllowed ? 'block' : 'none';\n",
              "\n",
              "      buttonEl.onclick = () => {\n",
              "        google.colab.notebook.generateWithVariable('df');\n",
              "      }\n",
              "      })();\n",
              "    </script>\n",
              "  </div>\n",
              "\n",
              "    </div>\n",
              "  </div>\n"
            ]
          },
          "metadata": {},
          "execution_count": 2
        }
      ]
    },
    {
      "cell_type": "markdown",
      "source": [
        "# 투자사목록 따라 각 기업에 '투자점수'를 부여"
      ],
      "metadata": {
        "id": "EJE9oLrUIje9"
      }
    },
    {
      "cell_type": "markdown",
      "source": [
        "## 투자점수 부여를 위한 데이터셋 전처리"
      ],
      "metadata": {
        "id": "W4Kb5U-qLL2F"
      }
    },
    {
      "cell_type": "code",
      "source": [
        "df.index"
      ],
      "metadata": {
        "colab": {
          "base_uri": "https://localhost:8080/"
        },
        "id": "rkC-4UC7LVDt",
        "outputId": "e32e7070-7bd0-4b21-d90b-3e36dadb41e5"
      },
      "execution_count": 3,
      "outputs": [
        {
          "output_type": "execute_result",
          "data": {
            "text/plain": [
              "RangeIndex(start=0, stop=912, step=1)"
            ]
          },
          "metadata": {},
          "execution_count": 3
        }
      ]
    },
    {
      "cell_type": "code",
      "source": [
        "# for i in df.index :\n",
        "#   inv_l = df['투자사'][i].replce(\"[\",\"\").replce(\"]\",\"\").replce(\"'\",\"\").replce(\" \",\"\").split(\",\")\n",
        "#   print(inv_l)"
      ],
      "metadata": {
        "id": "I2h7MQZJLRRm"
      },
      "execution_count": 4,
      "outputs": []
    },
    {
      "cell_type": "markdown",
      "source": [
        "## 투자사별 점수 mapping : dict 생성, 함수로 부여"
      ],
      "metadata": {
        "id": "kpiP1O-WJcjp"
      }
    },
    {
      "cell_type": "code",
      "source": [
        "# 점수 가중치 dict 생성\n",
        "\n",
        "scores = {'패스트벤처스' : 30, '엔슬파트너스' : 30, '슈미트' : 30, '빅뱅엔젤스' : 30, '벤처스퀘어' : 30, '엔피프틴파트너스' : 30,\n",
        "          '디지털헬스케어파트너스' : 30, '더인벤션랩' : 30, '끌림벤처스' : 30, '스마일게이트인베스트먼트' : 30, '스프링캠프' : 30, '마그나인베스트먼트' : 30,\n",
        "          '한국투자액셀러레이터' : 30, '킹슬리벤처스' : 30, '포항공과대학교기술지주' : 10, '대경지역대학공동기술지주' : 10, '대덕벤처파트너스' : 10,\n",
        "          '디캠프' : 10, '팁스' : 10, '네오플라이' : 10, '인덱스벤처스' : 10, '소프트뱅크인베스트먼트어드바이저' : 10, '펀더스클럽' : 10, '카우보이벤처스' : 10, '포메이션8' : 10,\n",
        "          '페녹스벤처캐피탈' : 10, '스파크랩글로벌벤처스' : 10, '프라이머사제파트너스' : 10, '뉴욕증권거래소' : 10, '웰링턴매니지먼트' : 10, '블랙록' : 10, '리빗캐피털' : 10,\n",
        "          '클라이너퍼킨스코필드앤바이어스' : 80, '매쉬업엔젤스' : 60, '블루포인트파트너스' : 60, '스파크랩' : 60, '본엔젤스벤처파트너스' : 60, '퓨처플레이' : 60,\n",
        "          '더벤처스' : 60, '씨엔티테크' : 60, '신용보증기금' : 60, '에이치지이니셔티브' : 3, '소풍벤처스' : 3, '엠와이소셜컴퍼니' : 3, '임팩트스퀘어' : 3,\n",
        "          '탭엔젤파트너스' : 3, '와이앤아처' : 3, '크립톤' : 3, '대교인베스트먼트' : 3, '알토스벤처스' : 40, '클라이너퍼킨스' : 40, '앤드리슨호로위츠' : 40,\n",
        "          '액셀' : 40, '타이거글로벌매니지먼트' : 40, '인텔캐피털' : 40, '소프트뱅크벤처스' : 40, '카카오벤처스' : 30, 'D2SF' : 30, '파운더스펀드' : 30,\n",
        "          '디에스티글로벌' : 30, '인덱스벤처스' : 30, '소프트뱅크비전펀드' : 30, '코슬라벤처스' : 30, '아이코닉캐피탈' : 30, '콜버그크래비스로버츠' : 30,\n",
        "          '케이비인베스트먼트' : 25, '한국투자파트너스' : 25, '삼성벤처투자' : 25, '캡스톤파트너스' : 20, '디에스씨인베스트먼트' : 20, '미래에셋벤처투자' : 20,\n",
        "          '신한벤처투자' : 20, '두나무앤파트너스' : 20, '아이디지캐피탈' : 20, '플러그앤플레이' : 20, '베세머벤처파트너스' : 20, '굿워터캐피털': 20,\n",
        "          '포스코기술투자' : 15, '아이디벤처스' : 15, '아이비케이기업은행' : 15, '비엔케이벤처투자' : 15, '네오플럭스' : 15, '한국산업은행' : 15, '아이엠엠인베스트먼트' : 15,\n",
        "          '에이티넘인베스트먼트' : 15, '엘비인베스트먼트' : 15, '스톤브릿지벤처스' : 15, '에스브이인베스트먼트' : 15, '프리미어파트너' : 15, '하나벤처스' : 15,\n",
        "          '롯데벤처스' : 15, '씨제이인베스트먼트' : 15, '지에스벤처스' : 15, '한화인베스트먼트' : 15, '케이티인베스트먼트' : 15, '코오롱인베스트먼트' : 15, '위벤처스' : 15,\n",
        "          '미래에셋캐피탈' : 15, '뮤렉스파트너스' : 15, '스트롱벤처스' : 15, '한국벤처투자' : 15, '네이버' : 15, '서울산업진흥원' : 15, '롯데벤처스' : 15,\n",
        "          '롯데쇼핑' : 15, '아이비케이기업은행' : 15, '케이티인베스트먼트' : 15, '에이벤처스' : 15, '와이컴비네이터' : 110,\n",
        "          '테크스타' : 90, '500글로벌' : 90, '프라이머' : 90, '권도균' : 90, '세쿼이아캐피탈' : 50}"
      ],
      "metadata": {
        "id": "sl2uxdgiJeTx"
      },
      "execution_count": 5,
      "outputs": []
    },
    {
      "cell_type": "code",
      "source": [
        "scores.get('테크스타')"
      ],
      "metadata": {
        "colab": {
          "base_uri": "https://localhost:8080/"
        },
        "id": "wJECRuG2PmGF",
        "outputId": "650150f0-d6e9-437f-a1d3-f5d36a3ba28a"
      },
      "execution_count": 6,
      "outputs": [
        {
          "output_type": "execute_result",
          "data": {
            "text/plain": [
              "90"
            ]
          },
          "metadata": {},
          "execution_count": 6
        }
      ]
    },
    {
      "cell_type": "code",
      "source": [
        "# 함수로 각 회사의 투자사별 +=score => '투자 점수'\n",
        "\n",
        "def cal_inv_score(inv_l,scores) :\n",
        "  score = 0\n",
        "  #\n",
        "  invest_l = inv_l.replace(\"[\", \"\").replace(\"]\", \"\").replace(\"'\", \"\").replace(\" \", \"\").split(\",\")\n",
        "  for inv in invest_l :\n",
        "    score += scores.get(inv, 1) # 리스트 돌면서 점수 계산. scores 딕셔너리에 없으면 1로 부여.\n",
        "  return score"
      ],
      "metadata": {
        "id": "UMkv6BoDN-K3"
      },
      "execution_count": 7,
      "outputs": []
    },
    {
      "cell_type": "code",
      "source": [
        "df['투자점수'] = df['투자사'].apply(lambda x:cal_inv_score(x, scores))"
      ],
      "metadata": {
        "id": "dlgqYE3jPF03"
      },
      "execution_count": 8,
      "outputs": []
    },
    {
      "cell_type": "code",
      "source": [
        "df['투자점수']"
      ],
      "metadata": {
        "colab": {
          "base_uri": "https://localhost:8080/"
        },
        "id": "OsxoCfU1P7ZR",
        "outputId": "89abd99c-0ad3-4082-af35-2a864ba1620c"
      },
      "execution_count": 9,
      "outputs": [
        {
          "output_type": "execute_result",
          "data": {
            "text/plain": [
              "0      380\n",
              "1      155\n",
              "2      589\n",
              "3      206\n",
              "4       21\n",
              "      ... \n",
              "907      1\n",
              "908      1\n",
              "909     61\n",
              "910     21\n",
              "911     55\n",
              "Name: 투자점수, Length: 912, dtype: int64"
            ]
          },
          "metadata": {},
          "execution_count": 9
        }
      ]
    },
    {
      "cell_type": "markdown",
      "source": [
        "## 회사별 투자점수 데이터셋으로 저장"
      ],
      "metadata": {
        "id": "Gs6e_W55QEM8"
      }
    },
    {
      "cell_type": "code",
      "source": [
        "df.to_csv('preMerge_invScore_base.csv', encoding = 'utf-8', index = False)"
      ],
      "metadata": {
        "id": "Yd2pQK7PQH5m"
      },
      "execution_count": 10,
      "outputs": []
    },
    {
      "cell_type": "markdown",
      "source": [
        "# 기업매출 파일, 기업별 투자점수 파일 병합"
      ],
      "metadata": {
        "id": "xDGd1C9aQaBq"
      }
    },
    {
      "cell_type": "markdown",
      "source": [
        "## 병합할 파일들 불러오기"
      ],
      "metadata": {
        "id": "Xnbkyd_ZQq9V"
      }
    },
    {
      "cell_type": "code",
      "source": [
        "import io\n",
        "\n",
        "df1 = pd.read_csv('preMerge_invScore_base.csv', encoding = 'utf-8')\n",
        "df2 = pd.read_csv('preMerge_profitData_base.csv', encoding = 'cp949')"
      ],
      "metadata": {
        "id": "ZBizrXLpQt5p"
      },
      "execution_count": 17,
      "outputs": []
    },
    {
      "cell_type": "markdown",
      "source": [
        "##df2 매출파일_base를 기준으로 right join"
      ],
      "metadata": {
        "id": "BBDgDSamQtUA"
      }
    },
    {
      "cell_type": "code",
      "source": [
        "merged_df = pd.merge(df1[['기업명','투자점수']], df2, on = '기업명', how = 'right')"
      ],
      "metadata": {
        "id": "OSA0Y3b7QoGD"
      },
      "execution_count": 18,
      "outputs": []
    },
    {
      "cell_type": "markdown",
      "source": [
        "## 병합한 데이터셋 clearing"
      ],
      "metadata": {
        "id": "pXZV0xy-S9BF"
      }
    },
    {
      "cell_type": "code",
      "source": [
        "merged_df.duplicated('기업명').sum()"
      ],
      "metadata": {
        "colab": {
          "base_uri": "https://localhost:8080/"
        },
        "id": "B0JF7bf_S46Z",
        "outputId": "87b71bf0-e752-47d6-c262-d5e436b5c594"
      },
      "execution_count": 19,
      "outputs": [
        {
          "output_type": "execute_result",
          "data": {
            "text/plain": [
              "40"
            ]
          },
          "metadata": {},
          "execution_count": 19
        }
      ]
    },
    {
      "cell_type": "code",
      "source": [
        "drop_dupl_df = merged_df.drop_duplicates(subset = '기업명')"
      ],
      "metadata": {
        "id": "9eETNdbmTSeZ"
      },
      "execution_count": 20,
      "outputs": []
    },
    {
      "cell_type": "code",
      "source": [
        "drop_dupl_df.duplicated('기업명').sum()"
      ],
      "metadata": {
        "colab": {
          "base_uri": "https://localhost:8080/"
        },
        "id": "bUCedRXETj7c",
        "outputId": "143dbf08-8b22-4072-ec7b-7670e9509462"
      },
      "execution_count": 21,
      "outputs": [
        {
          "output_type": "execute_result",
          "data": {
            "text/plain": [
              "0"
            ]
          },
          "metadata": {},
          "execution_count": 21
        }
      ]
    },
    {
      "cell_type": "code",
      "source": [
        "clean_df = drop_dupl_df.dropna()"
      ],
      "metadata": {
        "id": "rc9X9pOvTJ2d"
      },
      "execution_count": 22,
      "outputs": []
    },
    {
      "cell_type": "markdown",
      "source": [
        "# '투자점수'추가된 연매출 파일 저장"
      ],
      "metadata": {
        "id": "XzDGR_MRTyFl"
      }
    },
    {
      "cell_type": "code",
      "source": [
        "clean_df.to_csv('end_all_data.csv',encoding='utf-8', index = False)"
      ],
      "metadata": {
        "id": "vPnE51wpT4Sh"
      },
      "execution_count": 23,
      "outputs": []
    }
  ]
}